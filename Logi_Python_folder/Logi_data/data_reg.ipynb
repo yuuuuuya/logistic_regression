{
 "cells": [
  {
   "cell_type": "code",
   "execution_count": 1,
   "metadata": {
    "collapsed": true
   },
   "outputs": [],
   "source": [
    "import pandas as pd\n",
    "occu_df = pd.read_csv('datatraining.txt', sep = ',' )\n",
    "import numpy as np\n",
    "import matplotlib as plt\n",
    "import seaborn as sns\n",
    "%matplotlib inline\n",
    "occu_df_1 = occu_df[occu_df.Occupancy !=0]\n",
    "occu_df_0 = occu_df[occu_df.Occupancy !=1]"
   ]
  },
  {
   "cell_type": "code",
   "execution_count": 5,
   "metadata": {},
   "outputs": [
    {
     "data": {
      "text/plain": [
       "((1729, 7), (6414, 7))"
      ]
     },
     "execution_count": 5,
     "metadata": {},
     "output_type": "execute_result"
    }
   ],
   "source": [
    "occu_df_1.shape,occu_df_0.shape"
   ]
  },
  {
   "cell_type": "code",
   "execution_count": 2,
   "metadata": {
    "collapsed": true
   },
   "outputs": [],
   "source": [
    "import random\n",
    "def shuffle(df):\n",
    "    index = list(df.index)\n",
    "    random.shuffle(index)\n",
    "    df = df.ix[index]\n",
    "    df.reset_index()\n",
    "    return df"
   ]
  },
  {
   "cell_type": "code",
   "execution_count": 3,
   "metadata": {},
   "outputs": [
    {
     "name": "stderr",
     "output_type": "stream",
     "text": [
      "/Users/inagakiyuuya/anaconda3/lib/python3.6/site-packages/ipykernel_launcher.py:5: DeprecationWarning: \n",
      ".ix is deprecated. Please use\n",
      ".loc for label based indexing or\n",
      ".iloc for positional indexing\n",
      "\n",
      "See the documentation here:\n",
      "http://pandas.pydata.org/pandas-docs/stable/indexing.html#ix-indexer-is-deprecated\n",
      "  \"\"\"\n"
     ]
    }
   ],
   "source": [
    "occu_df_0_s = shuffle(occu_df_0)\n",
    "occu_df_00 = occu_df_0_s[0:1729]\n",
    "train_df_0 = pd.concat([occu_df_00 , occu_df_1])"
   ]
  },
  {
   "cell_type": "code",
   "execution_count": 4,
   "metadata": {
    "collapsed": true
   },
   "outputs": [],
   "source": [
    "train_df_0['CO2_n'] = (train_df_0['CO2'] - train_df_0['CO2'].mean()) / train_df_0['CO2'].std()\n",
    "train_df_0['HumidityRatio_n'] = (train_df_0['HumidityRatio'] - train_df_0['HumidityRatio'].mean()) / train_df_0['HumidityRatio'].std()train_df_0['Temperature_n'] = (train_df_0['Temperature'] - train_df_0['Temperature'].mean()) / train_df_0['Temperature'].std()\n",
    "train_df_0['Humidity_n'] = (train_df_0['Humidity'] - train_df_0['Humidity'].mean()) / train_df_0['Humidity'].std()\n",
    "train_df_0['Light_n'] = (train_df_0['Light'] - train_df_0['Light'].mean()) / train_df_0['Light'].std()"
   ]
  },
  {
   "cell_type": "code",
   "execution_count": 5,
   "metadata": {},
   "outputs": [
    {
     "data": {
      "text/html": [
       "<div>\n",
       "<table border=\"1\" class=\"dataframe\">\n",
       "  <thead>\n",
       "    <tr style=\"text-align: right;\">\n",
       "      <th></th>\n",
       "      <th>date</th>\n",
       "      <th>Temperature</th>\n",
       "      <th>Humidity</th>\n",
       "      <th>Light</th>\n",
       "      <th>CO2</th>\n",
       "      <th>HumidityRatio</th>\n",
       "      <th>Occupancy</th>\n",
       "      <th>Temperature_n</th>\n",
       "      <th>Humidity_n</th>\n",
       "      <th>Light_n</th>\n",
       "      <th>CO2_n</th>\n",
       "      <th>HumidityRatio_n</th>\n",
       "    </tr>\n",
       "  </thead>\n",
       "  <tbody>\n",
       "    <tr>\n",
       "      <th>1457</th>\n",
       "      <td>2015-02-05 18:07:00</td>\n",
       "      <td>22.00</td>\n",
       "      <td>24.10</td>\n",
       "      <td>0.0</td>\n",
       "      <td>852.0</td>\n",
       "      <td>0.003937</td>\n",
       "      <td>0</td>\n",
       "      <td>0.981697</td>\n",
       "      <td>-0.372024</td>\n",
       "      <td>-1.071498</td>\n",
       "      <td>0.216144</td>\n",
       "      <td>-0.110205</td>\n",
       "    </tr>\n",
       "    <tr>\n",
       "      <th>4538</th>\n",
       "      <td>2015-02-07 21:28:00</td>\n",
       "      <td>19.89</td>\n",
       "      <td>26.79</td>\n",
       "      <td>0.0</td>\n",
       "      <td>437.0</td>\n",
       "      <td>0.003844</td>\n",
       "      <td>0</td>\n",
       "      <td>-1.073144</td>\n",
       "      <td>0.092730</td>\n",
       "      <td>-1.071498</td>\n",
       "      <td>-0.824294</td>\n",
       "      <td>-0.209373</td>\n",
       "    </tr>\n",
       "    <tr>\n",
       "      <th>394</th>\n",
       "      <td>2015-02-05 00:23:59</td>\n",
       "      <td>21.29</td>\n",
       "      <td>25.20</td>\n",
       "      <td>0.0</td>\n",
       "      <td>454.0</td>\n",
       "      <td>0.003942</td>\n",
       "      <td>0</td>\n",
       "      <td>0.290258</td>\n",
       "      <td>-0.181976</td>\n",
       "      <td>-1.071498</td>\n",
       "      <td>-0.781674</td>\n",
       "      <td>-0.105146</td>\n",
       "    </tr>\n",
       "    <tr>\n",
       "      <th>7447</th>\n",
       "      <td>2015-02-09 21:56:59</td>\n",
       "      <td>20.50</td>\n",
       "      <td>33.50</td>\n",
       "      <td>0.0</td>\n",
       "      <td>632.0</td>\n",
       "      <td>0.005000</td>\n",
       "      <td>0</td>\n",
       "      <td>-0.479090</td>\n",
       "      <td>1.252021</td>\n",
       "      <td>-1.071498</td>\n",
       "      <td>-0.335414</td>\n",
       "      <td>1.014745</td>\n",
       "    </tr>\n",
       "    <tr>\n",
       "      <th>7497</th>\n",
       "      <td>2015-02-09 22:46:59</td>\n",
       "      <td>20.50</td>\n",
       "      <td>33.09</td>\n",
       "      <td>0.0</td>\n",
       "      <td>562.0</td>\n",
       "      <td>0.004939</td>\n",
       "      <td>0</td>\n",
       "      <td>-0.479090</td>\n",
       "      <td>1.181185</td>\n",
       "      <td>-1.071498</td>\n",
       "      <td>-0.510909</td>\n",
       "      <td>0.949467</td>\n",
       "    </tr>\n",
       "  </tbody>\n",
       "</table>\n",
       "</div>"
      ],
      "text/plain": [
       "                     date  Temperature  Humidity  Light    CO2  HumidityRatio  \\\n",
       "1457  2015-02-05 18:07:00        22.00     24.10    0.0  852.0       0.003937   \n",
       "4538  2015-02-07 21:28:00        19.89     26.79    0.0  437.0       0.003844   \n",
       "394   2015-02-05 00:23:59        21.29     25.20    0.0  454.0       0.003942   \n",
       "7447  2015-02-09 21:56:59        20.50     33.50    0.0  632.0       0.005000   \n",
       "7497  2015-02-09 22:46:59        20.50     33.09    0.0  562.0       0.004939   \n",
       "\n",
       "      Occupancy  Temperature_n  Humidity_n   Light_n     CO2_n  \\\n",
       "1457          0       0.981697   -0.372024 -1.071498  0.216144   \n",
       "4538          0      -1.073144    0.092730 -1.071498 -0.824294   \n",
       "394           0       0.290258   -0.181976 -1.071498 -0.781674   \n",
       "7447          0      -0.479090    1.252021 -1.071498 -0.335414   \n",
       "7497          0      -0.479090    1.181185 -1.071498 -0.510909   \n",
       "\n",
       "      HumidityRatio_n  \n",
       "1457        -0.110205  \n",
       "4538        -0.209373  \n",
       "394         -0.105146  \n",
       "7447         1.014745  \n",
       "7497         0.949467  "
      ]
     },
     "execution_count": 5,
     "metadata": {},
     "output_type": "execute_result"
    }
   ],
   "source": [
    "train_df_0.head()"
   ]
  },
  {
   "cell_type": "code",
   "execution_count": 6,
   "metadata": {
    "collapsed": true
   },
   "outputs": [],
   "source": [
    "train_df = train_df_0.drop(['date' , 'Temperature' , 'Humidity' , 'Light' , 'CO2' , 'HumidityRatio'] , axis=1)"
   ]
  },
  {
   "cell_type": "code",
   "execution_count": 9,
   "metadata": {},
   "outputs": [
    {
     "data": {
      "text/html": [
       "<div>\n",
       "<table border=\"1\" class=\"dataframe\">\n",
       "  <thead>\n",
       "    <tr style=\"text-align: right;\">\n",
       "      <th></th>\n",
       "      <th>Occupancy</th>\n",
       "      <th>Temperature_n</th>\n",
       "      <th>Humidity_n</th>\n",
       "      <th>Light_n</th>\n",
       "      <th>CO2_n</th>\n",
       "      <th>HumidityRatio_n</th>\n",
       "    </tr>\n",
       "  </thead>\n",
       "  <tbody>\n",
       "    <tr>\n",
       "      <th>8139</th>\n",
       "      <td>1</td>\n",
       "      <td>0.056532</td>\n",
       "      <td>1.700793</td>\n",
       "      <td>0.826400</td>\n",
       "      <td>0.053811</td>\n",
       "      <td>1.626900</td>\n",
       "    </tr>\n",
       "    <tr>\n",
       "      <th>8140</th>\n",
       "      <td>1</td>\n",
       "      <td>0.056532</td>\n",
       "      <td>1.683084</td>\n",
       "      <td>0.826400</td>\n",
       "      <td>0.059452</td>\n",
       "      <td>1.609986</td>\n",
       "    </tr>\n",
       "    <tr>\n",
       "      <th>8141</th>\n",
       "      <td>1</td>\n",
       "      <td>0.105225</td>\n",
       "      <td>1.700361</td>\n",
       "      <td>0.826400</td>\n",
       "      <td>0.082015</td>\n",
       "      <td>1.644812</td>\n",
       "    </tr>\n",
       "    <tr>\n",
       "      <th>8142</th>\n",
       "      <td>1</td>\n",
       "      <td>0.105225</td>\n",
       "      <td>1.728869</td>\n",
       "      <td>0.826400</td>\n",
       "      <td>0.136753</td>\n",
       "      <td>1.672126</td>\n",
       "    </tr>\n",
       "    <tr>\n",
       "      <th>8143</th>\n",
       "      <td>1</td>\n",
       "      <td>0.105225</td>\n",
       "      <td>1.718502</td>\n",
       "      <td>0.887764</td>\n",
       "      <td>0.138425</td>\n",
       "      <td>1.662194</td>\n",
       "    </tr>\n",
       "  </tbody>\n",
       "</table>\n",
       "</div>"
      ],
      "text/plain": [
       "      Occupancy  Temperature_n  Humidity_n   Light_n     CO2_n  \\\n",
       "8139          1       0.056532    1.700793  0.826400  0.053811   \n",
       "8140          1       0.056532    1.683084  0.826400  0.059452   \n",
       "8141          1       0.105225    1.700361  0.826400  0.082015   \n",
       "8142          1       0.105225    1.728869  0.826400  0.136753   \n",
       "8143          1       0.105225    1.718502  0.887764  0.138425   \n",
       "\n",
       "      HumidityRatio_n  \n",
       "8139         1.626900  \n",
       "8140         1.609986  \n",
       "8141         1.644812  \n",
       "8142         1.672126  \n",
       "8143         1.662194  "
      ]
     },
     "execution_count": 9,
     "metadata": {},
     "output_type": "execute_result"
    }
   ],
   "source": [
    "train_df.tail()"
   ]
  },
  {
   "cell_type": "code",
   "execution_count": 10,
   "metadata": {
    "collapsed": true
   },
   "outputs": [],
   "source": [
    "from sklearn.linear_model import LogisticRegression\n",
    "from sklearn import metrics"
   ]
  },
  {
   "cell_type": "code",
   "execution_count": 11,
   "metadata": {
    "collapsed": true
   },
   "outputs": [],
   "source": [
    "#目的変数を作る\n",
    "Yt = train_df.Occupancy\n",
    "Y_train = np.ravel(Yt)"
   ]
  },
  {
   "cell_type": "code",
   "execution_count": 13,
   "metadata": {
    "collapsed": true
   },
   "outputs": [],
   "source": [
    "#説明変数を作る\n",
    "X_train = train_df.drop([ 'Occupancy'] , axis=1)"
   ]
  },
  {
   "cell_type": "code",
   "execution_count": 14,
   "metadata": {
    "collapsed": true
   },
   "outputs": [],
   "source": [
    "log_model = LogisticRegression()"
   ]
  },
  {
   "cell_type": "code",
   "execution_count": 15,
   "metadata": {},
   "outputs": [
    {
     "data": {
      "text/plain": [
       "LogisticRegression(C=1.0, class_weight=None, dual=False, fit_intercept=True,\n",
       "          intercept_scaling=1, max_iter=100, multi_class='ovr', n_jobs=1,\n",
       "          penalty='l2', random_state=None, solver='liblinear', tol=0.0001,\n",
       "          verbose=0, warm_start=False)"
      ]
     },
     "execution_count": 15,
     "metadata": {},
     "output_type": "execute_result"
    }
   ],
   "source": [
    "log_model.fit(X_train , Y_train)"
   ]
  },
  {
   "cell_type": "code",
   "execution_count": 17,
   "metadata": {},
   "outputs": [
    {
     "data": {
      "text/html": [
       "<div>\n",
       "<table border=\"1\" class=\"dataframe\">\n",
       "  <thead>\n",
       "    <tr style=\"text-align: right;\">\n",
       "      <th></th>\n",
       "      <th>0</th>\n",
       "      <th>1</th>\n",
       "    </tr>\n",
       "  </thead>\n",
       "  <tbody>\n",
       "    <tr>\n",
       "      <th>0</th>\n",
       "      <td>Temperature_n</td>\n",
       "      <td>-1.10717</td>\n",
       "    </tr>\n",
       "    <tr>\n",
       "      <th>1</th>\n",
       "      <td>Humidity_n</td>\n",
       "      <td>-0.0748367</td>\n",
       "    </tr>\n",
       "    <tr>\n",
       "      <th>2</th>\n",
       "      <td>Light_n</td>\n",
       "      <td>4.69001</td>\n",
       "    </tr>\n",
       "    <tr>\n",
       "      <th>3</th>\n",
       "      <td>CO2_n</td>\n",
       "      <td>2.05274</td>\n",
       "    </tr>\n",
       "    <tr>\n",
       "      <th>4</th>\n",
       "      <td>HumidityRatio_n</td>\n",
       "      <td>0.0879494</td>\n",
       "    </tr>\n",
       "  </tbody>\n",
       "</table>\n",
       "</div>"
      ],
      "text/plain": [
       "                 0          1\n",
       "0    Temperature_n   -1.10717\n",
       "1       Humidity_n -0.0748367\n",
       "2          Light_n    4.69001\n",
       "3            CO2_n    2.05274\n",
       "4  HumidityRatio_n  0.0879494"
      ]
     },
     "execution_count": 17,
     "metadata": {},
     "output_type": "execute_result"
    }
   ],
   "source": [
    "coeff_df = pd.DataFrame([X_train.columns , log_model.coef_[0]]).T\n",
    "coeff_df"
   ]
  },
  {
   "cell_type": "code",
   "execution_count": 18,
   "metadata": {
    "collapsed": true
   },
   "outputs": [],
   "source": [
    "test1_df = pd.read_csv('datatest.txt')\n",
    "test2_df = pd.read_csv('datatest2.txt')"
   ]
  },
  {
   "cell_type": "code",
   "execution_count": 19,
   "metadata": {
    "collapsed": true
   },
   "outputs": [],
   "source": [
    "Y1 = test1_df.Occupancy\n",
    "Y_test1 = np.ravel(Y1)\n",
    "Y2 = test2_df.Occupancy\n",
    "Y_test2 = np.ravel(Y2)"
   ]
  },
  {
   "cell_type": "code",
   "execution_count": 20,
   "metadata": {
    "collapsed": true
   },
   "outputs": [],
   "source": [
    "X_test1 = test1_df.drop(['date' , 'Occupancy'] , axis=1)\n",
    "X_test2 = test2_df.drop(['date' , 'Occupancy'] , axis=1)"
   ]
  },
  {
   "cell_type": "code",
   "execution_count": 21,
   "metadata": {
    "collapsed": true
   },
   "outputs": [],
   "source": [
    "pred_test1 = log_model.predict(X_test1)\n",
    "pred_test2 = log_model.predict(X_test2)"
   ]
  },
  {
   "cell_type": "code",
   "execution_count": 23,
   "metadata": {
    "collapsed": true
   },
   "outputs": [],
   "source": [
    "df = pd.DataFrame(Y_test1 , columns=['data'])"
   ]
  },
  {
   "cell_type": "code",
   "execution_count": 24,
   "metadata": {
    "collapsed": true
   },
   "outputs": [],
   "source": [
    "df['est'] = pd.DataFrame(pred_test1)"
   ]
  },
  {
   "cell_type": "code",
   "execution_count": 25,
   "metadata": {
    "collapsed": true
   },
   "outputs": [],
   "source": [
    "def gap(t):\n",
    "    if t == 0:\n",
    "        return 0\n",
    "    else:\n",
    "        return 1"
   ]
  },
  {
   "cell_type": "code",
   "execution_count": 26,
   "metadata": {
    "collapsed": true
   },
   "outputs": [],
   "source": [
    "df['dif'] =Y_test1-pred_test1"
   ]
  },
  {
   "cell_type": "code",
   "execution_count": 27,
   "metadata": {
    "collapsed": true
   },
   "outputs": [],
   "source": [
    "df['gap'] =df['dif'].apply(gap)"
   ]
  },
  {
   "cell_type": "code",
   "execution_count": 28,
   "metadata": {},
   "outputs": [
    {
     "data": {
      "text/html": [
       "<div>\n",
       "<table border=\"1\" class=\"dataframe\">\n",
       "  <thead>\n",
       "    <tr style=\"text-align: right;\">\n",
       "      <th></th>\n",
       "      <th>data</th>\n",
       "      <th>est</th>\n",
       "      <th>dif</th>\n",
       "      <th>gap</th>\n",
       "    </tr>\n",
       "  </thead>\n",
       "  <tbody>\n",
       "    <tr>\n",
       "      <th>0</th>\n",
       "      <td>1</td>\n",
       "      <td>1</td>\n",
       "      <td>0</td>\n",
       "      <td>0</td>\n",
       "    </tr>\n",
       "    <tr>\n",
       "      <th>1</th>\n",
       "      <td>1</td>\n",
       "      <td>1</td>\n",
       "      <td>0</td>\n",
       "      <td>0</td>\n",
       "    </tr>\n",
       "    <tr>\n",
       "      <th>2</th>\n",
       "      <td>1</td>\n",
       "      <td>1</td>\n",
       "      <td>0</td>\n",
       "      <td>0</td>\n",
       "    </tr>\n",
       "    <tr>\n",
       "      <th>3</th>\n",
       "      <td>1</td>\n",
       "      <td>1</td>\n",
       "      <td>0</td>\n",
       "      <td>0</td>\n",
       "    </tr>\n",
       "    <tr>\n",
       "      <th>4</th>\n",
       "      <td>1</td>\n",
       "      <td>1</td>\n",
       "      <td>0</td>\n",
       "      <td>0</td>\n",
       "    </tr>\n",
       "    <tr>\n",
       "      <th>5</th>\n",
       "      <td>1</td>\n",
       "      <td>1</td>\n",
       "      <td>0</td>\n",
       "      <td>0</td>\n",
       "    </tr>\n",
       "    <tr>\n",
       "      <th>6</th>\n",
       "      <td>1</td>\n",
       "      <td>1</td>\n",
       "      <td>0</td>\n",
       "      <td>0</td>\n",
       "    </tr>\n",
       "    <tr>\n",
       "      <th>7</th>\n",
       "      <td>1</td>\n",
       "      <td>1</td>\n",
       "      <td>0</td>\n",
       "      <td>0</td>\n",
       "    </tr>\n",
       "    <tr>\n",
       "      <th>8</th>\n",
       "      <td>1</td>\n",
       "      <td>1</td>\n",
       "      <td>0</td>\n",
       "      <td>0</td>\n",
       "    </tr>\n",
       "    <tr>\n",
       "      <th>9</th>\n",
       "      <td>1</td>\n",
       "      <td>1</td>\n",
       "      <td>0</td>\n",
       "      <td>0</td>\n",
       "    </tr>\n",
       "    <tr>\n",
       "      <th>10</th>\n",
       "      <td>1</td>\n",
       "      <td>1</td>\n",
       "      <td>0</td>\n",
       "      <td>0</td>\n",
       "    </tr>\n",
       "    <tr>\n",
       "      <th>11</th>\n",
       "      <td>1</td>\n",
       "      <td>1</td>\n",
       "      <td>0</td>\n",
       "      <td>0</td>\n",
       "    </tr>\n",
       "    <tr>\n",
       "      <th>12</th>\n",
       "      <td>1</td>\n",
       "      <td>1</td>\n",
       "      <td>0</td>\n",
       "      <td>0</td>\n",
       "    </tr>\n",
       "    <tr>\n",
       "      <th>13</th>\n",
       "      <td>1</td>\n",
       "      <td>1</td>\n",
       "      <td>0</td>\n",
       "      <td>0</td>\n",
       "    </tr>\n",
       "    <tr>\n",
       "      <th>14</th>\n",
       "      <td>1</td>\n",
       "      <td>1</td>\n",
       "      <td>0</td>\n",
       "      <td>0</td>\n",
       "    </tr>\n",
       "    <tr>\n",
       "      <th>15</th>\n",
       "      <td>1</td>\n",
       "      <td>1</td>\n",
       "      <td>0</td>\n",
       "      <td>0</td>\n",
       "    </tr>\n",
       "    <tr>\n",
       "      <th>16</th>\n",
       "      <td>1</td>\n",
       "      <td>1</td>\n",
       "      <td>0</td>\n",
       "      <td>0</td>\n",
       "    </tr>\n",
       "    <tr>\n",
       "      <th>17</th>\n",
       "      <td>1</td>\n",
       "      <td>1</td>\n",
       "      <td>0</td>\n",
       "      <td>0</td>\n",
       "    </tr>\n",
       "    <tr>\n",
       "      <th>18</th>\n",
       "      <td>1</td>\n",
       "      <td>1</td>\n",
       "      <td>0</td>\n",
       "      <td>0</td>\n",
       "    </tr>\n",
       "    <tr>\n",
       "      <th>19</th>\n",
       "      <td>1</td>\n",
       "      <td>1</td>\n",
       "      <td>0</td>\n",
       "      <td>0</td>\n",
       "    </tr>\n",
       "    <tr>\n",
       "      <th>20</th>\n",
       "      <td>1</td>\n",
       "      <td>1</td>\n",
       "      <td>0</td>\n",
       "      <td>0</td>\n",
       "    </tr>\n",
       "    <tr>\n",
       "      <th>21</th>\n",
       "      <td>1</td>\n",
       "      <td>1</td>\n",
       "      <td>0</td>\n",
       "      <td>0</td>\n",
       "    </tr>\n",
       "    <tr>\n",
       "      <th>22</th>\n",
       "      <td>1</td>\n",
       "      <td>1</td>\n",
       "      <td>0</td>\n",
       "      <td>0</td>\n",
       "    </tr>\n",
       "    <tr>\n",
       "      <th>23</th>\n",
       "      <td>1</td>\n",
       "      <td>1</td>\n",
       "      <td>0</td>\n",
       "      <td>0</td>\n",
       "    </tr>\n",
       "    <tr>\n",
       "      <th>24</th>\n",
       "      <td>1</td>\n",
       "      <td>1</td>\n",
       "      <td>0</td>\n",
       "      <td>0</td>\n",
       "    </tr>\n",
       "    <tr>\n",
       "      <th>25</th>\n",
       "      <td>1</td>\n",
       "      <td>1</td>\n",
       "      <td>0</td>\n",
       "      <td>0</td>\n",
       "    </tr>\n",
       "    <tr>\n",
       "      <th>26</th>\n",
       "      <td>1</td>\n",
       "      <td>1</td>\n",
       "      <td>0</td>\n",
       "      <td>0</td>\n",
       "    </tr>\n",
       "    <tr>\n",
       "      <th>27</th>\n",
       "      <td>1</td>\n",
       "      <td>1</td>\n",
       "      <td>0</td>\n",
       "      <td>0</td>\n",
       "    </tr>\n",
       "    <tr>\n",
       "      <th>28</th>\n",
       "      <td>1</td>\n",
       "      <td>1</td>\n",
       "      <td>0</td>\n",
       "      <td>0</td>\n",
       "    </tr>\n",
       "    <tr>\n",
       "      <th>29</th>\n",
       "      <td>1</td>\n",
       "      <td>1</td>\n",
       "      <td>0</td>\n",
       "      <td>0</td>\n",
       "    </tr>\n",
       "    <tr>\n",
       "      <th>...</th>\n",
       "      <td>...</td>\n",
       "      <td>...</td>\n",
       "      <td>...</td>\n",
       "      <td>...</td>\n",
       "    </tr>\n",
       "    <tr>\n",
       "      <th>2635</th>\n",
       "      <td>1</td>\n",
       "      <td>1</td>\n",
       "      <td>0</td>\n",
       "      <td>0</td>\n",
       "    </tr>\n",
       "    <tr>\n",
       "      <th>2636</th>\n",
       "      <td>1</td>\n",
       "      <td>1</td>\n",
       "      <td>0</td>\n",
       "      <td>0</td>\n",
       "    </tr>\n",
       "    <tr>\n",
       "      <th>2637</th>\n",
       "      <td>1</td>\n",
       "      <td>1</td>\n",
       "      <td>0</td>\n",
       "      <td>0</td>\n",
       "    </tr>\n",
       "    <tr>\n",
       "      <th>2638</th>\n",
       "      <td>1</td>\n",
       "      <td>1</td>\n",
       "      <td>0</td>\n",
       "      <td>0</td>\n",
       "    </tr>\n",
       "    <tr>\n",
       "      <th>2639</th>\n",
       "      <td>1</td>\n",
       "      <td>1</td>\n",
       "      <td>0</td>\n",
       "      <td>0</td>\n",
       "    </tr>\n",
       "    <tr>\n",
       "      <th>2640</th>\n",
       "      <td>1</td>\n",
       "      <td>1</td>\n",
       "      <td>0</td>\n",
       "      <td>0</td>\n",
       "    </tr>\n",
       "    <tr>\n",
       "      <th>2641</th>\n",
       "      <td>1</td>\n",
       "      <td>1</td>\n",
       "      <td>0</td>\n",
       "      <td>0</td>\n",
       "    </tr>\n",
       "    <tr>\n",
       "      <th>2642</th>\n",
       "      <td>1</td>\n",
       "      <td>1</td>\n",
       "      <td>0</td>\n",
       "      <td>0</td>\n",
       "    </tr>\n",
       "    <tr>\n",
       "      <th>2643</th>\n",
       "      <td>1</td>\n",
       "      <td>1</td>\n",
       "      <td>0</td>\n",
       "      <td>0</td>\n",
       "    </tr>\n",
       "    <tr>\n",
       "      <th>2644</th>\n",
       "      <td>1</td>\n",
       "      <td>1</td>\n",
       "      <td>0</td>\n",
       "      <td>0</td>\n",
       "    </tr>\n",
       "    <tr>\n",
       "      <th>2645</th>\n",
       "      <td>1</td>\n",
       "      <td>1</td>\n",
       "      <td>0</td>\n",
       "      <td>0</td>\n",
       "    </tr>\n",
       "    <tr>\n",
       "      <th>2646</th>\n",
       "      <td>1</td>\n",
       "      <td>1</td>\n",
       "      <td>0</td>\n",
       "      <td>0</td>\n",
       "    </tr>\n",
       "    <tr>\n",
       "      <th>2647</th>\n",
       "      <td>1</td>\n",
       "      <td>1</td>\n",
       "      <td>0</td>\n",
       "      <td>0</td>\n",
       "    </tr>\n",
       "    <tr>\n",
       "      <th>2648</th>\n",
       "      <td>1</td>\n",
       "      <td>1</td>\n",
       "      <td>0</td>\n",
       "      <td>0</td>\n",
       "    </tr>\n",
       "    <tr>\n",
       "      <th>2649</th>\n",
       "      <td>1</td>\n",
       "      <td>1</td>\n",
       "      <td>0</td>\n",
       "      <td>0</td>\n",
       "    </tr>\n",
       "    <tr>\n",
       "      <th>2650</th>\n",
       "      <td>1</td>\n",
       "      <td>1</td>\n",
       "      <td>0</td>\n",
       "      <td>0</td>\n",
       "    </tr>\n",
       "    <tr>\n",
       "      <th>2651</th>\n",
       "      <td>1</td>\n",
       "      <td>1</td>\n",
       "      <td>0</td>\n",
       "      <td>0</td>\n",
       "    </tr>\n",
       "    <tr>\n",
       "      <th>2652</th>\n",
       "      <td>1</td>\n",
       "      <td>1</td>\n",
       "      <td>0</td>\n",
       "      <td>0</td>\n",
       "    </tr>\n",
       "    <tr>\n",
       "      <th>2653</th>\n",
       "      <td>1</td>\n",
       "      <td>1</td>\n",
       "      <td>0</td>\n",
       "      <td>0</td>\n",
       "    </tr>\n",
       "    <tr>\n",
       "      <th>2654</th>\n",
       "      <td>1</td>\n",
       "      <td>1</td>\n",
       "      <td>0</td>\n",
       "      <td>0</td>\n",
       "    </tr>\n",
       "    <tr>\n",
       "      <th>2655</th>\n",
       "      <td>1</td>\n",
       "      <td>1</td>\n",
       "      <td>0</td>\n",
       "      <td>0</td>\n",
       "    </tr>\n",
       "    <tr>\n",
       "      <th>2656</th>\n",
       "      <td>1</td>\n",
       "      <td>1</td>\n",
       "      <td>0</td>\n",
       "      <td>0</td>\n",
       "    </tr>\n",
       "    <tr>\n",
       "      <th>2657</th>\n",
       "      <td>1</td>\n",
       "      <td>1</td>\n",
       "      <td>0</td>\n",
       "      <td>0</td>\n",
       "    </tr>\n",
       "    <tr>\n",
       "      <th>2658</th>\n",
       "      <td>1</td>\n",
       "      <td>1</td>\n",
       "      <td>0</td>\n",
       "      <td>0</td>\n",
       "    </tr>\n",
       "    <tr>\n",
       "      <th>2659</th>\n",
       "      <td>1</td>\n",
       "      <td>1</td>\n",
       "      <td>0</td>\n",
       "      <td>0</td>\n",
       "    </tr>\n",
       "    <tr>\n",
       "      <th>2660</th>\n",
       "      <td>1</td>\n",
       "      <td>1</td>\n",
       "      <td>0</td>\n",
       "      <td>0</td>\n",
       "    </tr>\n",
       "    <tr>\n",
       "      <th>2661</th>\n",
       "      <td>1</td>\n",
       "      <td>1</td>\n",
       "      <td>0</td>\n",
       "      <td>0</td>\n",
       "    </tr>\n",
       "    <tr>\n",
       "      <th>2662</th>\n",
       "      <td>1</td>\n",
       "      <td>1</td>\n",
       "      <td>0</td>\n",
       "      <td>0</td>\n",
       "    </tr>\n",
       "    <tr>\n",
       "      <th>2663</th>\n",
       "      <td>1</td>\n",
       "      <td>1</td>\n",
       "      <td>0</td>\n",
       "      <td>0</td>\n",
       "    </tr>\n",
       "    <tr>\n",
       "      <th>2664</th>\n",
       "      <td>1</td>\n",
       "      <td>1</td>\n",
       "      <td>0</td>\n",
       "      <td>0</td>\n",
       "    </tr>\n",
       "  </tbody>\n",
       "</table>\n",
       "<p>2665 rows × 4 columns</p>\n",
       "</div>"
      ],
      "text/plain": [
       "      data  est  dif  gap\n",
       "0        1    1    0    0\n",
       "1        1    1    0    0\n",
       "2        1    1    0    0\n",
       "3        1    1    0    0\n",
       "4        1    1    0    0\n",
       "5        1    1    0    0\n",
       "6        1    1    0    0\n",
       "7        1    1    0    0\n",
       "8        1    1    0    0\n",
       "9        1    1    0    0\n",
       "10       1    1    0    0\n",
       "11       1    1    0    0\n",
       "12       1    1    0    0\n",
       "13       1    1    0    0\n",
       "14       1    1    0    0\n",
       "15       1    1    0    0\n",
       "16       1    1    0    0\n",
       "17       1    1    0    0\n",
       "18       1    1    0    0\n",
       "19       1    1    0    0\n",
       "20       1    1    0    0\n",
       "21       1    1    0    0\n",
       "22       1    1    0    0\n",
       "23       1    1    0    0\n",
       "24       1    1    0    0\n",
       "25       1    1    0    0\n",
       "26       1    1    0    0\n",
       "27       1    1    0    0\n",
       "28       1    1    0    0\n",
       "29       1    1    0    0\n",
       "...    ...  ...  ...  ...\n",
       "2635     1    1    0    0\n",
       "2636     1    1    0    0\n",
       "2637     1    1    0    0\n",
       "2638     1    1    0    0\n",
       "2639     1    1    0    0\n",
       "2640     1    1    0    0\n",
       "2641     1    1    0    0\n",
       "2642     1    1    0    0\n",
       "2643     1    1    0    0\n",
       "2644     1    1    0    0\n",
       "2645     1    1    0    0\n",
       "2646     1    1    0    0\n",
       "2647     1    1    0    0\n",
       "2648     1    1    0    0\n",
       "2649     1    1    0    0\n",
       "2650     1    1    0    0\n",
       "2651     1    1    0    0\n",
       "2652     1    1    0    0\n",
       "2653     1    1    0    0\n",
       "2654     1    1    0    0\n",
       "2655     1    1    0    0\n",
       "2656     1    1    0    0\n",
       "2657     1    1    0    0\n",
       "2658     1    1    0    0\n",
       "2659     1    1    0    0\n",
       "2660     1    1    0    0\n",
       "2661     1    1    0    0\n",
       "2662     1    1    0    0\n",
       "2663     1    1    0    0\n",
       "2664     1    1    0    0\n",
       "\n",
       "[2665 rows x 4 columns]"
      ]
     },
     "execution_count": 28,
     "metadata": {},
     "output_type": "execute_result"
    }
   ],
   "source": [
    "df"
   ]
  },
  {
   "cell_type": "code",
   "execution_count": 29,
   "metadata": {},
   "outputs": [
    {
     "data": {
      "text/plain": [
       "data     972\n",
       "est     2665\n",
       "dif    -1693\n",
       "gap     1693\n",
       "dtype: int64"
      ]
     },
     "execution_count": 29,
     "metadata": {},
     "output_type": "execute_result"
    }
   ],
   "source": [
    "df.sum()"
   ]
  },
  {
   "cell_type": "code",
   "execution_count": 30,
   "metadata": {
    "collapsed": true
   },
   "outputs": [],
   "source": [
    "test1_df['Temperature_n'] = (test1_df['Temperature'] - test1_df['Temperature'].mean()) / test1_df['Temperature'].std()\n",
    "test1_df['Humidity_n'] = (test1_df['Humidity'] - test1_df['Humidity'].mean()) / test1_df['Humidity'].std()\n",
    "test1_df['Light_n'] = (test1_df['Light'] - test1_df['Light'].mean()) / test1_df['Light'].std()\n",
    "test1_df['CO2_n'] = (test1_df['CO2'] - test1_df['CO2'].mean()) / test1_df['CO2'].std()\n",
    "test1_df['HumidityRatio_n'] = (test1_df['HumidityRatio'] - test1_df['HumidityRatio'].mean()) / test1_df['HumidityRatio'].std()"
   ]
  },
  {
   "cell_type": "code",
   "execution_count": 31,
   "metadata": {},
   "outputs": [
    {
     "data": {
      "text/html": [
       "<div>\n",
       "<table border=\"1\" class=\"dataframe\">\n",
       "  <thead>\n",
       "    <tr style=\"text-align: right;\">\n",
       "      <th></th>\n",
       "      <th>date</th>\n",
       "      <th>Temperature</th>\n",
       "      <th>Humidity</th>\n",
       "      <th>Light</th>\n",
       "      <th>CO2</th>\n",
       "      <th>HumidityRatio</th>\n",
       "      <th>Occupancy</th>\n",
       "      <th>Temperature_n</th>\n",
       "      <th>Humidity_n</th>\n",
       "      <th>Light_n</th>\n",
       "      <th>CO2_n</th>\n",
       "      <th>HumidityRatio_n</th>\n",
       "    </tr>\n",
       "  </thead>\n",
       "  <tbody>\n",
       "    <tr>\n",
       "      <th>140</th>\n",
       "      <td>2015-02-02 14:19:00</td>\n",
       "      <td>23.7000</td>\n",
       "      <td>26.272</td>\n",
       "      <td>585.200000</td>\n",
       "      <td>749.200000</td>\n",
       "      <td>0.004764</td>\n",
       "      <td>1</td>\n",
       "      <td>2.204349</td>\n",
       "      <td>0.376743</td>\n",
       "      <td>1.566568</td>\n",
       "      <td>0.106920</td>\n",
       "      <td>1.207314</td>\n",
       "    </tr>\n",
       "    <tr>\n",
       "      <th>141</th>\n",
       "      <td>2015-02-02 14:19:59</td>\n",
       "      <td>23.7180</td>\n",
       "      <td>26.290</td>\n",
       "      <td>578.400000</td>\n",
       "      <td>760.400000</td>\n",
       "      <td>0.004773</td>\n",
       "      <td>1</td>\n",
       "      <td>2.221858</td>\n",
       "      <td>0.384130</td>\n",
       "      <td>1.539391</td>\n",
       "      <td>0.145187</td>\n",
       "      <td>1.221232</td>\n",
       "    </tr>\n",
       "    <tr>\n",
       "      <th>142</th>\n",
       "      <td>2015-02-02 14:21:00</td>\n",
       "      <td>23.7300</td>\n",
       "      <td>26.230</td>\n",
       "      <td>572.666667</td>\n",
       "      <td>769.666667</td>\n",
       "      <td>0.004765</td>\n",
       "      <td>1</td>\n",
       "      <td>2.233531</td>\n",
       "      <td>0.359508</td>\n",
       "      <td>1.516477</td>\n",
       "      <td>0.176848</td>\n",
       "      <td>1.208934</td>\n",
       "    </tr>\n",
       "    <tr>\n",
       "      <th>143</th>\n",
       "      <td>2015-02-02 14:22:00</td>\n",
       "      <td>23.7225</td>\n",
       "      <td>26.125</td>\n",
       "      <td>493.750000</td>\n",
       "      <td>774.750000</td>\n",
       "      <td>0.004744</td>\n",
       "      <td>1</td>\n",
       "      <td>2.226235</td>\n",
       "      <td>0.316419</td>\n",
       "      <td>1.201077</td>\n",
       "      <td>0.194216</td>\n",
       "      <td>1.173919</td>\n",
       "    </tr>\n",
       "    <tr>\n",
       "      <th>144</th>\n",
       "      <td>2015-02-02 14:23:00</td>\n",
       "      <td>23.7540</td>\n",
       "      <td>26.200</td>\n",
       "      <td>488.600000</td>\n",
       "      <td>779.000000</td>\n",
       "      <td>0.004767</td>\n",
       "      <td>1</td>\n",
       "      <td>2.256877</td>\n",
       "      <td>0.347197</td>\n",
       "      <td>1.180494</td>\n",
       "      <td>0.208737</td>\n",
       "      <td>1.211295</td>\n",
       "    </tr>\n",
       "  </tbody>\n",
       "</table>\n",
       "</div>"
      ],
      "text/plain": [
       "                    date  Temperature  Humidity       Light         CO2  \\\n",
       "140  2015-02-02 14:19:00      23.7000    26.272  585.200000  749.200000   \n",
       "141  2015-02-02 14:19:59      23.7180    26.290  578.400000  760.400000   \n",
       "142  2015-02-02 14:21:00      23.7300    26.230  572.666667  769.666667   \n",
       "143  2015-02-02 14:22:00      23.7225    26.125  493.750000  774.750000   \n",
       "144  2015-02-02 14:23:00      23.7540    26.200  488.600000  779.000000   \n",
       "\n",
       "     HumidityRatio  Occupancy  Temperature_n  Humidity_n   Light_n     CO2_n  \\\n",
       "140       0.004764          1       2.204349    0.376743  1.566568  0.106920   \n",
       "141       0.004773          1       2.221858    0.384130  1.539391  0.145187   \n",
       "142       0.004765          1       2.233531    0.359508  1.516477  0.176848   \n",
       "143       0.004744          1       2.226235    0.316419  1.201077  0.194216   \n",
       "144       0.004767          1       2.256877    0.347197  1.180494  0.208737   \n",
       "\n",
       "     HumidityRatio_n  \n",
       "140         1.207314  \n",
       "141         1.221232  \n",
       "142         1.208934  \n",
       "143         1.173919  \n",
       "144         1.211295  "
      ]
     },
     "execution_count": 31,
     "metadata": {},
     "output_type": "execute_result"
    }
   ],
   "source": [
    "test1_df.head()"
   ]
  },
  {
   "cell_type": "code",
   "execution_count": 32,
   "metadata": {
    "collapsed": true
   },
   "outputs": [],
   "source": [
    "test1_df_n = test1_df.drop(['date' , 'Temperature' , 'Humidity' , 'Light' , 'CO2' , 'HumidityRatio'] , axis=1)"
   ]
  },
  {
   "cell_type": "code",
   "execution_count": 33,
   "metadata": {
    "collapsed": true
   },
   "outputs": [],
   "source": [
    "test2_df['Temperature_n'] = (test2_df['Temperature'] - test2_df['Temperature'].mean()) / test2_df['Temperature'].std()\n",
    "test2_df['Humidity_n'] = (test2_df['Humidity'] - test2_df['Humidity'].mean()) / test2_df['Humidity'].std()\n",
    "test2_df['Light_n'] = (test2_df['Light'] - test2_df['Light'].mean()) / test2_df['Light'].std()\n",
    "test2_df['CO2_n'] = (test2_df['CO2'] - test2_df['CO2'].mean()) / test2_df['CO2'].std()\n",
    "test2_df['HumidityRatio_n'] = (test2_df['HumidityRatio'] - test2_df['HumidityRatio'].mean()) / test2_df['HumidityRatio'].std()"
   ]
  },
  {
   "cell_type": "code",
   "execution_count": 34,
   "metadata": {
    "collapsed": true
   },
   "outputs": [],
   "source": [
    "test2_df_n = test2_df.drop(['date' , 'Temperature' , 'Humidity' , 'Light' , 'CO2' , 'HumidityRatio'] , axis=1)"
   ]
  },
  {
   "cell_type": "code",
   "execution_count": 35,
   "metadata": {
    "collapsed": true
   },
   "outputs": [],
   "source": [
    "Y1 = test1_df_n.Occupancy\n",
    "Y_test1_n = np.ravel(Y1)\n",
    "Y2 = test2_df_n.Occupancy\n",
    "Y_test2_n = np.ravel(Y2)"
   ]
  },
  {
   "cell_type": "code",
   "execution_count": 36,
   "metadata": {
    "collapsed": true
   },
   "outputs": [],
   "source": [
    "X_test1_n = test1_df_n.drop(['Occupancy'] , axis=1)\n",
    "X_test2_n = test2_df_n.drop(['Occupancy'] , axis=1)"
   ]
  },
  {
   "cell_type": "code",
   "execution_count": 37,
   "metadata": {
    "collapsed": true
   },
   "outputs": [],
   "source": [
    "pred_test1_n = log_model.predict(X_test1_n)\n",
    "pred_test2_n = log_model.predict(X_test2_n)"
   ]
  },
  {
   "cell_type": "code",
   "execution_count": 38,
   "metadata": {
    "collapsed": true
   },
   "outputs": [],
   "source": [
    "df_n = pd.DataFrame(Y_test1_n , columns=['data'])"
   ]
  },
  {
   "cell_type": "code",
   "execution_count": 39,
   "metadata": {
    "collapsed": true
   },
   "outputs": [],
   "source": [
    "df_n['est'] = pd.DataFrame(pred_test1_n)"
   ]
  },
  {
   "cell_type": "code",
   "execution_count": 40,
   "metadata": {
    "collapsed": true
   },
   "outputs": [],
   "source": [
    "df_n['dif'] =Y_test1_n - pred_test1_n"
   ]
  },
  {
   "cell_type": "code",
   "execution_count": 41,
   "metadata": {
    "collapsed": true
   },
   "outputs": [],
   "source": [
    "df_n['gap'] =df_n['dif'].apply(gap)"
   ]
  },
  {
   "cell_type": "code",
   "execution_count": 42,
   "metadata": {},
   "outputs": [
    {
     "data": {
      "text/plain": [
       "data     972\n",
       "est     1027\n",
       "dif      -55\n",
       "gap       57\n",
       "dtype: int64"
      ]
     },
     "execution_count": 42,
     "metadata": {},
     "output_type": "execute_result"
    }
   ],
   "source": [
    "df_n.sum()"
   ]
  },
  {
   "cell_type": "code",
   "execution_count": null,
   "metadata": {
    "collapsed": true
   },
   "outputs": [],
   "source": []
  }
 ],
 "metadata": {
  "kernelspec": {
   "display_name": "Python 3",
   "language": "python",
   "name": "python3"
  },
  "language_info": {
   "codemirror_mode": {
    "name": "ipython",
    "version": 3
   },
   "file_extension": ".py",
   "mimetype": "text/x-python",
   "name": "python",
   "nbconvert_exporter": "python",
   "pygments_lexer": "ipython3",
   "version": "3.6.3"
  }
 },
 "nbformat": 4,
 "nbformat_minor": 2
}
