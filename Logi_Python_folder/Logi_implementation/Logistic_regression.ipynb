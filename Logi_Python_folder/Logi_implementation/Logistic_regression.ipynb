{
 "cells": [
  {
   "cell_type": "code",
   "execution_count": 2,
   "metadata": {
    "collapsed": true
   },
   "outputs": [],
   "source": [
    "import sys\n",
    "sys.path.append('../Logi_src/')\n",
    "import datautil as dutiful\n",
    "from datautil import*\n",
    "from matplotlib import pyplot as plt\n",
    "%matplotlib inline"
   ]
  },
  {
   "cell_type": "code",
   "execution_count": 20,
   "metadata": {
    "collapsed": true
   },
   "outputs": [],
   "source": [
    "oridf=combineData('../Logi_data/')\n",
    "X,T=load_originaldata(oridf, mode = 'Laplace')\n",
    "\n",
    "def trainModel(trainX, trainY):\n",
    "    model = 0\n",
    "    return model\n",
    "\n",
    "def prediction(model, testX, testY):\n",
    "    accuracy = 0 \n",
    "    return accuracy\n",
    "\n"
   ]
  },
  {
   "cell_type": "code",
   "execution_count": 21,
   "metadata": {},
   "outputs": [
    {
     "name": "stdout",
     "output_type": "stream",
     "text": [
      "Epoch train size=31670, test size=15836\n",
      "accuracy : 0\n",
      "Epoch train size=31671, test size=15835\n",
      "accuracy : 0\n",
      "Epoch train size=31671, test size=15835\n",
      "accuracy : 0\n"
     ]
    }
   ],
   "source": [
    "epochIdx = 0 \n",
    "accuracyRecord = [] \n",
    "\n",
    "\n",
    "for train_idx, test_idx in StratifiedKFold(n_splits=3).split(X, T):\n",
    "    xs_train = X[train_idx]\n",
    "    y_train = T[train_idx]\n",
    "    xs_test = X[test_idx]\n",
    "    y_test = T[test_idx]\n",
    "    print(\"Epoch train size=%s, test size=%s\"%(len(xs_train), len(xs_test)))\n",
    "    \n",
    "    kthModel = trainModel(xs_train, y_train)\n",
    "    predictionVal = prediction(kthModel ,xs_test, y_test) \n",
    "    print(\"accuracy : %s\"%predictionVal ) \n",
    "    \n",
    "    accuracyRecord = accuracyRecord + [predictionVal]\n",
    "    \n",
    "    epochIdx+=1"
   ]
  },
  {
   "cell_type": "code",
   "execution_count": 22,
   "metadata": {},
   "outputs": [
    {
     "data": {
      "text/plain": [
       "[0, 0, 0]"
      ]
     },
     "execution_count": 22,
     "metadata": {},
     "output_type": "execute_result"
    }
   ],
   "source": [
    "accuracyRecord"
   ]
  },
  {
   "cell_type": "code",
   "execution_count": 23,
   "metadata": {},
   "outputs": [
    {
     "data": {
      "text/plain": [
       "(31671, 6)"
      ]
     },
     "execution_count": 23,
     "metadata": {},
     "output_type": "execute_result"
    }
   ],
   "source": [
    "array = np.c_[xs_train,y_train]\n",
    "array.shape"
   ]
  },
  {
   "cell_type": "code",
   "execution_count": 24,
   "metadata": {},
   "outputs": [
    {
     "data": {
      "text/plain": [
       "(23993, 7678, 31671)"
      ]
     },
     "execution_count": 24,
     "metadata": {},
     "output_type": "execute_result"
    }
   ],
   "source": [
    "array_1 = array[array[:,5]==1]\n",
    "array_0 = array[array[:,5]==0]\n",
    "\n",
    "\n",
    "array_0.shape[0],array_1.shape[0],array_0.shape[0]+array_1.shape[0]\n",
    "\n",
    "#https://qiita.com/supersaiakujin/items/d63c73bb7b5aac43898a"
   ]
  },
  {
   "cell_type": "code",
   "execution_count": 38,
   "metadata": {},
   "outputs": [
    {
     "data": {
      "text/plain": [
       "array([[0, 5, 6, 1, 8, 3, 9, 7, 6, 9],\n",
       "       [0, 1, 0, 2, 6, 2, 0, 0, 1, 5],\n",
       "       [3, 7, 2, 2, 1, 5, 4, 1, 7, 6],\n",
       "       [3, 2, 7, 7, 9, 1, 8, 9, 1, 3],\n",
       "       [9, 2, 9, 3, 2, 7, 8, 5, 4, 5],\n",
       "       [2, 3, 6, 0, 4, 2, 6, 6, 7, 4],\n",
       "       [3, 8, 8, 9, 5, 9, 3, 6, 8, 4],\n",
       "       [1, 9, 8, 0, 5, 4, 1, 9, 8, 8],\n",
       "       [3, 1, 7, 2, 2, 0, 2, 6, 3, 5],\n",
       "       [6, 9, 0, 9, 9, 5, 2, 9, 9, 8]])"
      ]
     },
     "execution_count": 38,
     "metadata": {},
     "output_type": "execute_result"
    }
   ],
   "source": [
    "A = np.random.randint(0,10,size=(10,10))\n",
    "A"
   ]
  },
  {
   "cell_type": "code",
   "execution_count": 39,
   "metadata": {},
   "outputs": [
    {
     "data": {
      "text/plain": [
       "array([[3, 8, 8, 9, 5, 9, 3, 6, 8, 4],\n",
       "       [1, 9, 8, 0, 5, 4, 1, 9, 8, 8],\n",
       "       [0, 1, 0, 2, 6, 2, 0, 0, 1, 5],\n",
       "       [3, 1, 7, 2, 2, 0, 2, 6, 3, 5],\n",
       "       [3, 7, 2, 2, 1, 5, 4, 1, 7, 6],\n",
       "       [9, 2, 9, 3, 2, 7, 8, 5, 4, 5],\n",
       "       [6, 9, 0, 9, 9, 5, 2, 9, 9, 8],\n",
       "       [0, 5, 6, 1, 8, 3, 9, 7, 6, 9],\n",
       "       [2, 3, 6, 0, 4, 2, 6, 6, 7, 4],\n",
       "       [3, 2, 7, 7, 9, 1, 8, 9, 1, 3]])"
      ]
     },
     "execution_count": 39,
     "metadata": {},
     "output_type": "execute_result"
    }
   ],
   "source": [
    "B = np.take(A,np.random.permutation(A.shape[0]),axis=0)\n",
    "#https://stackoverflow.com/questions/35646908/numpy-shuffle-multidimensional-array-by-row-only-keep-column-order-unchanged\n",
    "#行列の行をシャッフル\n",
    "B"
   ]
  },
  {
   "cell_type": "code",
   "execution_count": 45,
   "metadata": {},
   "outputs": [
    {
     "data": {
      "text/plain": [
       "array([[0, 5, 6, 1, 8, 3, 9, 7, 6, 9],\n",
       "       [0, 1, 0, 2, 6, 2, 0, 0, 1, 5],\n",
       "       [3, 7, 2, 2, 1, 5, 4, 1, 7, 6],\n",
       "       [3, 2, 7, 7, 9, 1, 8, 9, 1, 3],\n",
       "       [9, 2, 9, 3, 2, 7, 8, 5, 4, 5]])"
      ]
     },
     "execution_count": 45,
     "metadata": {},
     "output_type": "execute_result"
    }
   ],
   "source": [
    "A[0:5,:]"
   ]
  },
  {
   "cell_type": "code",
   "execution_count": 18,
   "metadata": {},
   "outputs": [
    {
     "data": {
      "text/plain": [
       "<matplotlib.image.AxesImage at 0x117994c88>"
      ]
     },
     "execution_count": 18,
     "metadata": {},
     "output_type": "execute_result"
    },
    {
     "data": {
      "image/png": "[encoded data removed]",
      "text/plain": [
       "<matplotlib.figure.Figure at 0x1165c2a58>"
      ]
     },
     "metadata": {},
     "output_type": "display_data"
    }
   ],
   "source": [
    "unko = np.random.normal(0,1, size = [4, 5])\n",
    "plt.imshow(unko,interpolation =\"None\")"
   ]
  },
  {
   "cell_type": "code",
   "execution_count": 24,
   "metadata": {},
   "outputs": [
    {
     "data": {
      "text/plain": [
       "<matplotlib.image.AxesImage at 0x116bef1d0>"
      ]
     },
     "execution_count": 24,
     "metadata": {},
     "output_type": "execute_result"
    },
    {
     "data": {
      "image/png": "[encoded data removed]",
      "text/plain": [
       "<matplotlib.figure.Figure at 0x1129e6ba8>"
      ]
     },
     "metadata": {},
     "output_type": "display_data"
    }
   ],
   "source": [
    "pants = np.diag([13,4,21, -5,6 ,-10]) \n",
    "plt.imshow(pants)"
   ]
  },
  {
   "cell_type": "code",
   "execution_count": null,
   "metadata": {
    "collapsed": true
   },
   "outputs": [],
   "source": []
  }
 ],
 "metadata": {
  "kernelspec": {
   "display_name": "Python 3",
   "language": "python",
   "name": "python3"
  },
  "language_info": {
   "codemirror_mode": {
    "name": "ipython",
    "version": 3
   },
   "file_extension": ".py",
   "mimetype": "text/x-python",
   "name": "python",
   "nbconvert_exporter": "python",
   "pygments_lexer": "ipython3",
   "version": "3.6.3"
  }
 },
 "nbformat": 4,
 "nbformat_minor": 2
}
