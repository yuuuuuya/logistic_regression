{
 "cells": [
  {
   "cell_type": "code",
   "execution_count": 1,
   "metadata": {},
   "outputs": [],
   "source": [
    "import sys\n",
    "sys.path.append('../Logi_src/')\n",
    "sys.path.append('../Logi_data/')\n",
    "\n",
    "import numpy as np\n",
    "\n",
    "import MNI_funutil as mni\n",
    "from MNI_funutil import*\n",
    "\n",
    "\n",
    "\n",
    "from matplotlib import pyplot as plt\n",
    "\n",
    "\n",
    "%matplotlib inline\n",
    "\n",
    "train_df = dutil.load_traindata('../Logi_data/', filename = 'datatraining.txt')\n",
    "match = dutil.Df_match(train_df)\n",
    "X = dutil.drop(match)\n",
    "W =np.random.normal(1, 10, size = 5)\n",
    "T = dutil.target_val(train_df)\n",
    "new_T = changeOutput(outputdata=T)\n",
    "feature_array = basis_funModel(array=X, mode='Gauss')\n",
    "#model = 'Gauus'or'Sigmoid'\n",
    "#penamodel = \"ridge\" or \"lasso\""
   ]
  },
  {
   "cell_type": "code",
   "execution_count": 2,
   "metadata": {},
   "outputs": [
    {
     "data": {
      "text/plain": [
       "array([    0.        ,     0.        ,     0.        , ..., -1384.61109028,\n",
       "       -1384.50911099, -1384.06190784])"
      ]
     },
     "execution_count": 2,
     "metadata": {},
     "output_type": "execute_result"
    }
   ],
   "source": [
    "J = judgedRecord(feature_array, parameterW=W, outputdata=new_T, coeff=2, penamodel='ridge')\n",
    "J"
   ]
  },
  {
   "cell_type": "code",
   "execution_count": 3,
   "metadata": {},
   "outputs": [
    {
     "data": {
      "text/plain": [
       "(3458, 1141)"
      ]
     },
     "execution_count": 3,
     "metadata": {},
     "output_type": "execute_result"
    }
   ],
   "source": [
    "J.shape[0],np.where(J==0)[0].shape[0]"
   ]
  },
  {
   "cell_type": "code",
   "execution_count": 4,
   "metadata": {},
   "outputs": [
    {
     "data": {
      "text/plain": [
       "2317"
      ]
     },
     "execution_count": 4,
     "metadata": {},
     "output_type": "execute_result"
    }
   ],
   "source": [
    "3458-1141"
   ]
  },
  {
   "cell_type": "code",
   "execution_count": 6,
   "metadata": {},
   "outputs": [
    {
     "data": {
      "text/plain": [
       "array([  16,   17,   18, ..., 3455, 3456, 3457])"
      ]
     },
     "execution_count": 6,
     "metadata": {},
     "output_type": "execute_result"
    }
   ],
   "source": [
    "errorNumlist(judgeRecord=J)"
   ]
  },
  {
   "cell_type": "code",
   "execution_count": 7,
   "metadata": {},
   "outputs": [
    {
     "data": {
      "text/plain": [
       "array([-1369.15037708, -1369.21340104, -1368.61348872, -1368.61348872,\n",
       "       -1369.61348872])"
      ]
     },
     "execution_count": 7,
     "metadata": {},
     "output_type": "execute_result"
    }
   ],
   "source": [
    "weightfunction(feature_vec=feature_array[16], parameterW=W, output_sca=new_T[16], coeff=2, penamodel='ridge')"
   ]
  },
  {
   "cell_type": "code",
   "execution_count": null,
   "metadata": {
    "collapsed": true
   },
   "outputs": [],
   "source": []
  }
 ],
 "metadata": {
  "kernelspec": {
   "display_name": "Python 3",
   "language": "python",
   "name": "python3"
  },
  "language_info": {
   "codemirror_mode": {
    "name": "ipython",
    "version": 3
   },
   "file_extension": ".py",
   "mimetype": "text/x-python",
   "name": "python",
   "nbconvert_exporter": "python",
   "pygments_lexer": "ipython3",
   "version": "3.6.3"
  }
 },
 "nbformat": 4,
 "nbformat_minor": 2
}
